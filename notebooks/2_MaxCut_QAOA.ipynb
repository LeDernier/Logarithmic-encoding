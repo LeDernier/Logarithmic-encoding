{
 "cells": [
  {
   "attachments": {},
   "cell_type": "markdown",
   "metadata": {},
   "source": [
    "### <center> Resolution of Max-Cut using QAOA. </center>\n",
    "\n",
    "<center> Author : Leder Aguirre </center>\n",
    "<center> Date : 2023 </center>"
   ]
  },
  {
   "cell_type": "code",
   "execution_count": null,
   "metadata": {},
   "outputs": [],
   "source": []
  },
  {
   "attachments": {},
   "cell_type": "markdown",
   "metadata": {},
   "source": [
    "### Table of contents\n",
    "\n",
    "1. [Introduction](#introduction)\n",
    "    1. [Problem](#problem)\n",
    "    2. [algorithm](#algorithm)\n",
    "2. [Importations](#importations)\n",
    "3. [Toy example](#toy_example)\n",
    "4. [Performance tests on random instances](#random_instances)\n",
    "5. [Bibliography](#bibliography)\n",
    "$\\renewcommand{\\ket}[1]{\\left|{#1}\\right\\rangle}\n",
    "\\renewcommand{\\bra}[1]{\\left\\langle{#1}\\right|}$"
   ]
  },
  {
   "attachments": {},
   "cell_type": "markdown",
   "metadata": {},
   "source": [
    "#### Problem\n",
    "\n",
    "For an graph $G=(V,E)$ with edge weights $c_e$, the Max(imum) Cut problem is to find a cut $S \\subset V$ such that the weight of edges accross $(S,\\bar{S})$ is maximized. It can be formulated as the Quadratic Unconstrained Optimization Problem (QUBO):\n",
    "\n",
    "Let $y_i$ be the decision variable, equal to 1 if the node $i$ belongs to $S$, -1 otherwise. The optimization problem is:\n",
    "\n",
    "\\begin{align}\n",
    "\\text{max} & \\quad & \\sum_{(i,j) \\in E} w_{i,j} \\left(\\frac{1 - y_iy_j}{2} \\right)\\\\\n",
    "\\text{s.t.} & \\quad & y_i \\in \\{-1,1\\} \\quad \\forall i \\in V\n",
    "\\end{align}\n"
   ]
  },
  {
   "attachments": {},
   "cell_type": "markdown",
   "metadata": {},
   "source": [
    "#### Algorithm\n",
    "\n",
    "QAOA is a variational algorithm that uses a unitary $\\hat{U}(\\beta, \\gamma)$ characterized by the parameters $(\\beta, \\gamma) \\in \\mathbb{R}$ to prepare a quantum state $\\ket{\\psi\\left(\\beta, \\gamma\\right)}$ encoding the *optimal solution* to the combinatorial optimization problem (COP), according to one of the two equations below:\n",
    "\n",
    "\\begin{align}\n",
    "\t\t\\ket{\\psi\\left(\\beta, \\gamma\\right)} &= \\ket{\\psi_T\\left(\\beta, \\gamma\\right)} = \\underbrace{\\hat{U}(\\beta)\\hat{U}(\\gamma) \\dots \\hat{U}(\\beta)\\hat{U}(\\gamma)}_{\\text{$T$ times}} \\ket{\\psi(t_0)}\\\\\n",
    "        \\ket{\\psi\\left(\\beta, \\gamma\\right)} &= \\hat{U}(\\beta_T)\\hat{U}(\\gamma_T) \\dots \\hat{U}(\\beta_1)\\hat{U}(\\gamma_1) \\ket{\\psi(t_0)}\n",
    "\\end{align}\n",
    "\n",
    "\n",
    "- *Reason of why the preparded state encodes the optimal solution*: We start preparting the quantum state $\\ket{\\psi(t_0)}$ associated to the maximum eigenvalue of some \"mixing\" Hamiltonian $\\hat{H}_B$. Then, through an adiabatic evolution associated to the parameter $T$, this state will evolve to the quantum state associated to the maximum eigenvalue of the \"problem\" Hamiltonian $\\hat{H}_P$. The problem Hamiltonian is a diagonal operator whose eigenvalues are the values of all the possible solutions.\n",
    "- *Differences between the two architectures (equations)*: The first equation is the original formulation in the sense that it is associated directly to an adiabatic evolution. In the second equation the dimension of the parameters is increased so that the depth of the circuits used might be reduced.\n",
    "\n",
    "The algorithm to solve the COP is described by the following process:\n",
    "\t\n",
    "1. Initialize $\\beta, \\gamma$ to suitable real values.\n",
    "2. Repeat until some suitable convergence criteria is met:\n",
    "    1. Prepare the state $\\ket{\\psi\\left(\\beta, \\gamma\\right)}$ using QAOA circuit.\n",
    "    2. Compute the expectation $ \\bra{\\psi\\left(\\beta, \\gamma\\right)} \\hat{H}_P \\ket{\\psi\\left(\\beta, \\gamma\\right)}$ via a sampling procedure.\n",
    "    3. Find a better set of parameters $\\left(\\beta_{new}, \\gamma_{new}\\right)$ using a classical optimization algorithm.\n",
    "    4. Set the current parameters $\\left(\\beta, \\gamma\\right)$ equal to the new parameters $\\left(\\beta_{new}, \\gamma_{new}\\right)$."
   ]
  },
  {
   "attachments": {},
   "cell_type": "markdown",
   "metadata": {},
   "source": [
    "### 2. Importations <a name=\"importations\"></a>"
   ]
  },
  {
   "cell_type": "code",
   "execution_count": 4,
   "metadata": {},
   "outputs": [],
   "source": [
    "# Imports non Qiskit\n",
    "import sys\n",
    "import os\n",
    "import numpy as np\n",
    "import matplotlib.pyplot as plt\n",
    "import pandas as pd\n",
    "import networkx as nx\n",
    "from time import time\n",
    "\n",
    "# Imports Qiskit\n",
    "from qiskit import QuantumCircuit, execute,IBMQ, transpile\n",
    "from qiskit.visualization import plot_histogram\n",
    "\n",
    "from qiskit.circuit import Parameter, ParameterVector\n",
    "from qiskit import Aer\n",
    "\n",
    "# optimizers\n",
    "from scipy.optimize import minimize\n",
    "\n",
    "# Imports customs\n",
    "sys.path.append('../code')"
   ]
  },
  {
   "attachments": {},
   "cell_type": "markdown",
   "metadata": {},
   "source": [
    "### 3. Toy example <a name=\"toy_example\"></a>\n",
    "\n",
    "#### 3.1 Instance\n",
    "\n",
    "In this section, we will work with a simple instance: a graph with 4 nodes and 3 edges. We plot the graph below so it is clear that the optimal value is 3 and the solution is given by the partition $C = \\{\\{0,2\\}, \\{1,3\\} \\}$."
   ]
  },
  {
   "cell_type": "code",
   "execution_count": 5,
   "metadata": {},
   "outputs": [
    {
     "data": {
      "image/png": "[encoded data removed]",
      "text/plain": [
       "<Figure size 432x288 with 1 Axes>"
      ]
     },
     "metadata": {},
     "output_type": "display_data"
    }
   ],
   "source": [
    "## read the graph\n",
    "G = nx.readwrite.edgelist.read_weighted_edgelist(\"../created_data/toy_graph_4.col\")    # toy example: 4 nodes, 3 edges\n",
    "N = G.number_of_nodes()\n",
    "log_N = int(np.ceil(np.log2(N))) # smaller k such that k >= log2(N)\n",
    "N_ = 2**log_N                   # corrected number of nodes so that N = 2^k for some k\n",
    "\n",
    "## draw the graph\n",
    "pos = nx.circular_layout(G)\n",
    "nx.draw(G, pos, with_labels=True)\n",
    "#nx.draw_networkx_edge_labels(G, pos)\n",
    "plt.show()"
   ]
  },
  {
   "attachments": {},
   "cell_type": "markdown",
   "metadata": {},
   "source": [
    "#### 3.2 Ansatz [1]\n",
    "##### 3.2.1 Initializing qubits\n",
    "\n",
    "Before applying problem Hamiltonians and mixing Hamiltonians on the qubits, we wish to bring the qubits into the equal superposition state by applying a Hadamard gate on each qubit."
   ]
  },
  {
   "cell_type": "code",
   "execution_count": 6,
   "metadata": {},
   "outputs": [
    {
     "data": {
      "image/png": "[encoded data removed]",
      "text/plain": [
       "<Figure size 146.797x264.88 with 1 Axes>"
      ]
     },
     "execution_count": 6,
     "metadata": {},
     "output_type": "execute_result"
    }
   ],
   "source": [
    "qc_init = QuantumCircuit(N_)\n",
    "for i in range(N_):\n",
    "    qc_init.h(i)\n",
    "\n",
    "qc_init.draw()"
   ]
  },
  {
   "attachments": {},
   "cell_type": "markdown",
   "metadata": {},
   "source": [
    "##### 3.2.2 Constructing the mixing Hamiltonian\n",
    "\n",
    "For the mixer hamiltonian $H_B$, we pick $\\sum_{v \\in V} {X_v}$, where $X_v$ is the X-gate applied to the qubit associated to the v-th node. \n",
    "    \n",
    "It is important to note that the summands in $H_B$ commute, so the unitary operation for $e^{-i H_B \\beta}$ is equal to the application of the gate $R_X(2\\beta)$ on each qubit independently. In other words, $U(H_B) = e^{-i \\beta H_B} = \\prod_{u \\in V} e^{-i \\beta X_v} = \\prod_{u \\in V} R_X(2\\beta) $"
   ]
  },
  {
   "cell_type": "code",
   "execution_count": 7,
   "metadata": {},
   "outputs": [
    {
     "data": {
      "image/png": "[encoded data removed]",
      "text/plain": [
       "<Figure size 146.797x264.88 with 1 Axes>"
      ]
     },
     "execution_count": 7,
     "metadata": {},
     "output_type": "execute_result"
    }
   ],
   "source": [
    "beta = Parameter(\"$\\\\beta$\")\n",
    "qc_mix = QuantumCircuit(N_)\n",
    "\n",
    "for i in range(N_):\n",
    "    qc_mix.rx(2 * beta, i)\n",
    "\n",
    "qc_mix.draw()"
   ]
  },
  {
   "attachments": {},
   "cell_type": "markdown",
   "metadata": {},
   "source": [
    "##### 3.2.3 Constructing the problem Hamiltonian\n",
    "For the problem hamiltonian, $H_P=\\sum_{\\{u,v\\} \\in E} w_{uv} \\frac{1 - Z_{u}Z_{v}}{2}$\n",
    "\n",
    "We need to implement the operation $e^{-iH_P \\gamma}$.\n",
    "\n",
    "Since $H_P$ is a diagonal matrix, exponentiation is simple. Moreover, since the summands are pairwise commuting operators, we can exponentiate them individually, as follows: $U(H_P) = e^{-i\\gamma H_P} = \\prod_{\\{u,v\\} \\in E} e^{-i \\gamma Z_u Z_v} = \\prod_{\\{u,v\\} \\in E} R_{Z_uZ_v}(2\\gamma)$"
   ]
  },
  {
   "cell_type": "code",
   "execution_count": 8,
   "metadata": {},
   "outputs": [
    {
     "data": {
      "image/png": "[encoded data removed]",
      "text/plain": [
       "<Figure size 808.997x264.88 with 1 Axes>"
      ]
     },
     "execution_count": 8,
     "metadata": {},
     "output_type": "execute_result"
    }
   ],
   "source": [
    "edges = [(int(u),int(v)) for u,v in G.edges()]\n",
    "gamma = Parameter(\"$\\\\gamma$\")\n",
    "qc_p = QuantumCircuit(N_)\n",
    "for pair in list(edges):  # pairs of nodes\n",
    "    qc_p.rzz(2 * gamma, pair[0], pair[1])\n",
    "    qc_p.barrier()\n",
    "\n",
    "qc_p.decompose().draw()"
   ]
  },
  {
   "attachments": {},
   "cell_type": "markdown",
   "metadata": {},
   "source": [
    "##### 3.2.4 Assemble the quantum ciruit\n",
    "\n",
    "Now we have got all building blocks we need. It's time to assemble the above parts together to make a complete parametrized quantum circuit."
   ]
  },
  {
   "cell_type": "code",
   "execution_count": 9,
   "metadata": {},
   "outputs": [
    {
     "data": {
      "image/png": "[encoded data removed]",
      "text/plain": [
       "<Figure size 929.397x264.88 with 1 Axes>"
      ]
     },
     "execution_count": 9,
     "metadata": {},
     "output_type": "execute_result"
    }
   ],
   "source": [
    "qc_qaoa = QuantumCircuit(N_)\n",
    "qc_qaoa.append(qc_init, range(N_))\n",
    "qc_qaoa.append(qc_p, range(N_))\n",
    "qc_qaoa.append(qc_mix, range(N_))\n",
    "\n",
    "qc_qaoa.decompose().decompose().draw()"
   ]
  },
  {
   "attachments": {},
   "cell_type": "markdown",
   "metadata": {},
   "source": [
    "#### 3.3 Solve the instance\n",
    "##### 3.3.1 Execute the ansatz\n",
    "\n",
    "Let us execute the circuit with a Qiskit qasm-simulator which runs locally on your pc or laptop. To use a classical optimizer, we need to provide a Python function that for a fixed $(\\beta, \\gamma)$, gives us the expectation value. In this implementation we will use the second architecture and we define $\\theta = (\\beta,\\gamma)$. For $T > 1$, we only have to define $\\theta \\in \\mathbb{R}^{2T}$, where the first T entries are the values of $\\beta \\in \\mathbb{R}^T$, while the other $T$ entries are the entries for $\\gamma \\in \\mathbb{R}^T$."
   ]
  },
  {
   "cell_type": "code",
   "execution_count": 10,
   "metadata": {},
   "outputs": [],
   "source": [
    "# code adapted from Qiskit\n",
    "# source: https://learn.qiskit.org/course/ch-applications/solving-combinatorial-optimization-problems-using-qaoa\n",
    "\n",
    "def maxcut_obj(solution, graph):\n",
    "    \"\"\"Given a bit string as a solution, this function returns\n",
    "    the number of edges shared between the two partitions\n",
    "    of the graph (multiplied by -1 because we are minimizing).\n",
    "    Args:\n",
    "        solution: (str) solution bit string\n",
    "        graph: networkx graph\n",
    "    Returns:\n",
    "        obj: (float) Objective\n",
    "    \"\"\"\n",
    "    \n",
    "    obj = 0\n",
    "    for i, j in G.edges():\n",
    "        if solution[int(i)] != solution[int(j)]:\n",
    "            obj -= G[i][j][\"weight\"]\n",
    "    return obj\n",
    "\n",
    "\n",
    "\n",
    "\n",
    "def compute_expectation(counts, graph, ):\n",
    "    \"\"\"Computes expectation value based on measurement results\n",
    "    Args:\n",
    "        counts: (dict) key as bit string, val as count\n",
    "        graph: networkx graph\n",
    "    Returns:\n",
    "        avg: float\n",
    "             expectation value\n",
    "    \"\"\"\n",
    "\n",
    "    avg = 0\n",
    "    sum_count = 0\n",
    "    for bit_string, count in counts.items():\n",
    "        obj = maxcut_obj(bit_string, graph)\n",
    "        avg += obj * count\n",
    "        sum_count += count\n",
    "    return avg/sum_count\n",
    "\n",
    "\n",
    "# We will also bring the different circuit components that\n",
    "# build the qaoa circuit under a single function\n",
    "def create_qaoa_circ(graph, theta):\n",
    "    \"\"\"Creates a parametrized qaoa circuit\n",
    "    Args:\n",
    "        graph: networkx graph\n",
    "        theta: (list) unitary parameters\n",
    "    Returns:\n",
    "        (QuantumCircuit) qiskit circuit\n",
    "    \"\"\"\n",
    "    nqubits = len(graph.nodes())\n",
    "    edges = [(int(u),int(v)) for u,v in G.edges()]\n",
    "    n_layers = len(theta)//2  # number of alternating unitaries\n",
    "    beta = theta[:n_layers]\n",
    "    gamma = theta[n_layers:]\n",
    "\n",
    "    qc = QuantumCircuit(nqubits)\n",
    "\n",
    "    # initial_state\n",
    "    qc.h(range(nqubits))\n",
    "\n",
    "    for layer_index in range(n_layers):\n",
    "        # problem unitary\n",
    "        for pair in list(edges):\n",
    "            qc.rzz(2 * gamma[layer_index], pair[0], pair[1])\n",
    "        # mixer unitary\n",
    "        for qubit in range(nqubits):\n",
    "            qc.rx(2 * beta[layer_index], qubit)\n",
    "\n",
    "    qc.measure_all()\n",
    "    return qc\n",
    "\n",
    "\n",
    "# Finally we write a function that executes the circuit\n",
    "# on the chosen backend\n",
    "def get_expectation(graph, dim, shots=512):\n",
    "    \"\"\"Runs parametrized circuit\n",
    "    Args:\n",
    "        graph: networkx graph\n",
    "    \"\"\"\n",
    "    backend = Aer.get_backend('qasm_simulator')\n",
    "    backend.shots = shots\n",
    "    theta_param = ParameterVector(\"theta\", dim)\n",
    "    qc = create_qaoa_circ(graph, theta_param)\n",
    "    compiled_qc = transpile(qc, backend=backend)\n",
    "\n",
    "    def execute_circ(theta):\n",
    "        #qc = create_qaoa_circ(graph, theta)\n",
    "        binded_qc = compiled_qc.bind_parameters({theta_param: theta})\n",
    "        counts = backend.run(binded_qc, seed_simulator=10,\n",
    "                             nshots=512).result().get_counts()\n",
    "        return compute_expectation(counts, graph)\n",
    "\n",
    "    return execute_circ"
   ]
  },
  {
   "cell_type": "code",
   "execution_count": 11,
   "metadata": {},
   "outputs": [
    {
     "data": {
      "text/plain": [
       " message: Optimization terminated successfully.\n",
       " success: True\n",
       "  status: 1\n",
       "     fun: -2.6201171875\n",
       "       x: [ 1.234e+00  1.919e+00  6.619e-01  1.831e+00]\n",
       "    nfev: 51\n",
       "   maxcv: 0.0"
      ]
     },
     "execution_count": 11,
     "metadata": {},
     "output_type": "execute_result"
    }
   ],
   "source": [
    "expectation = get_expectation(G,4)\n",
    "res = minimize(expectation,\n",
    "               [1.0, 1.0, 1.0, 1.0],\n",
    "               method='COBYLA')\n",
    "res"
   ]
  },
  {
   "attachments": {},
   "cell_type": "markdown",
   "metadata": {},
   "source": [
    "##### 3.3.2 Extract  and analize the results\n",
    "\n",
    "After executing the quantum circuit, we obtain a list of 0s and 1s as results. The results are bit strings representing the index of the group to which the corresponding node has been assigned. The cost of the solution can be easily evaluated using the weight matrix."
   ]
  },
  {
   "cell_type": "code",
   "execution_count": 55,
   "metadata": {},
   "outputs": [
    {
     "data": {
      "image/png": "[encoded data removed]",
      "text/plain": [
       "<Figure size 504x360 with 1 Axes>"
      ]
     },
     "execution_count": 55,
     "metadata": {},
     "output_type": "execute_result"
    }
   ],
   "source": [
    "backend = Aer.get_backend('aer_simulator')\n",
    "backend.shots = 512\n",
    "\n",
    "qc_res = create_qaoa_circ(G, res.x)\n",
    "counts = backend.run(qc_res, seed_simulator=10).result().get_counts()\n",
    "plot_histogram(counts)"
   ]
  },
  {
   "cell_type": "code",
   "execution_count": 56,
   "metadata": {},
   "outputs": [
    {
     "name": "stdout",
     "output_type": "stream",
     "text": [
      "most frequent:  1010\n"
     ]
    }
   ],
   "source": [
    "print(\"most frequent: \", counts.most_frequent())"
   ]
  },
  {
   "attachments": {},
   "cell_type": "markdown",
   "metadata": {},
   "source": [
    "We notice that the bit strings \"0101\" and \"1010\" have the highest probability and are indeed the optimal solutions (because it means that nodes 0 and 2 are together). The other sub-optimal solutions have a non-zero probability due to the choice of the mixing Hamiltonian and to the parameter $T$ being not large enough."
   ]
  },
  {
   "attachments": {},
   "cell_type": "markdown",
   "metadata": {},
   "source": [
    "### 4. Performance tests on random instances <a name=\"random_instances\"></a>\n",
    "\n",
    "In this section we want to measure the performance for a set of random graphs using a quantum simulator."
   ]
  },
  {
   "cell_type": "code",
   "execution_count": 19,
   "metadata": {},
   "outputs": [
    {
     "name": "stdout",
     "output_type": "stream",
     "text": [
      "current working directory:  d:\\Documents\\Cycle d'Ingénieur\\4A\\Stage 4A\\Stage UMA\\code\\Logarithmic-encoding\\created_data\\random_graphs\n",
      "['|V|', '|E|', 'solution', 'value', 'bound', 'solution_time']\n",
      "16 , 120 ,1000011110101101 ,  337.0 ,  322.7763671875 ,  6.453331470489502\n",
      "4 , 6 ,0101 ,  8.0 ,  9.7763671875 ,  0.17287397384643555\n",
      "8 , 28 ,10111000 ,  49.0 ,  54.3056640625 ,  0.41141796112060547\n"
     ]
    }
   ],
   "source": [
    "# folder Path\n",
    "path = os.getcwd()\n",
    "#path = os.path.join(path,\"../created_data/random_graphs\")   # uncomment once if necessary\n",
    "print(\"current working directory: \", path)\n",
    "  \n",
    "# change the directory\n",
    "os.chdir(path)\n",
    "  \n",
    "  \n",
    "# iterate through all file\n",
    "root_name = \"\"\n",
    "results = []\n",
    "columns = [\"|V|\", \"|E|\", \"solution\", \"value\", \"bound\", \"solution_time\"]\n",
    "print(columns)\n",
    "for file in os.listdir():\n",
    "    # Check whether file is in text format or not\n",
    "    if file.endswith(root_name+\".col\"):\n",
    "        file_path = f\"{path}/{file}\"\n",
    "  \n",
    "        # read the graph instance\n",
    "        G = nx.readwrite.edgelist.read_weighted_edgelist(file_path)\n",
    "        num_nodes = G.number_of_nodes()\n",
    "        num_edges = G.number_of_edges()\n",
    "        print(num_nodes, \",\", num_edges, \",\", end=\"\")\n",
    "\n",
    "        ## run the quantum circuit\n",
    "        expectation = get_expectation(G)\n",
    "\n",
    "        t_start = time()\n",
    "        res = minimize(expectation,\n",
    "                    [1.0, 1.0],\n",
    "                    method='COBYLA')\n",
    "        solution_time = time() - t_start\n",
    "        \n",
    "        ## analyze the results\n",
    "        backend = Aer.get_backend('aer_simulator')\n",
    "        backend.shots = 512\n",
    "\n",
    "        qc_res = create_qaoa_circ(G, res.x)\n",
    "        counts = backend.run(qc_res, seed_simulator=10).result().get_counts()\n",
    "\n",
    "        ## save the results\n",
    "        bound = -res.fun\n",
    "        max_prob = max(counts.values())\n",
    "        max_prob_counts = [x[0] for x in counts.items() if x[1] == max_prob]\n",
    "        solution = max_prob_counts[0]    # arbitrarily, get the first solution with highest probability\n",
    "        score = -maxcut_obj(solution, G)\n",
    "\n",
    "        # reorder the nodes\n",
    "        nodes_labels = [int(node) for node in G.nodes]\n",
    "        solution_ord = [solution[x] for _,x in sorted(zip(nodes_labels,list(range(num_nodes))))]\n",
    "\n",
    "        result = [num_nodes, num_edges, solution_ord, score, bound, solution_time]\n",
    "        results.append(result)\n",
    "        print(solution, \", \", score, \", \", bound, \", \", solution_time)"
   ]
  },
  {
   "cell_type": "code",
   "execution_count": 26,
   "metadata": {},
   "outputs": [
    {
     "name": "stdout",
     "output_type": "stream",
     "text": [
      "current working directory:  d:\\Documents\\Cycle d'Ingénieur\\4A\\Stage 4A\\Stage UMA\\code\\Logarithmic-encoding\\created_data\\random_graphs\n"
     ]
    },
    {
     "data": {
      "text/html": [
       "<div>\n",
       "<style scoped>\n",
       "    .dataframe tbody tr th:only-of-type {\n",
       "        vertical-align: middle;\n",
       "    }\n",
       "\n",
       "    .dataframe tbody tr th {\n",
       "        vertical-align: top;\n",
       "    }\n",
       "\n",
       "    .dataframe thead th {\n",
       "        text-align: right;\n",
       "    }\n",
       "</style>\n",
       "<table border=\"1\" class=\"dataframe\">\n",
       "  <thead>\n",
       "    <tr style=\"text-align: right;\">\n",
       "      <th></th>\n",
       "      <th>|V|</th>\n",
       "      <th>|E|</th>\n",
       "      <th>solution</th>\n",
       "      <th>value</th>\n",
       "      <th>bound</th>\n",
       "      <th>solution_time</th>\n",
       "    </tr>\n",
       "  </thead>\n",
       "  <tbody>\n",
       "    <tr>\n",
       "      <th>0</th>\n",
       "      <td>16</td>\n",
       "      <td>120</td>\n",
       "      <td>[1, 0, 0, 0, 0, 1, 1, 1, 1, 0, 1, 0, 1, 1, 0, 1]</td>\n",
       "      <td>337.0</td>\n",
       "      <td>322.776367</td>\n",
       "      <td>6.453331</td>\n",
       "    </tr>\n",
       "    <tr>\n",
       "      <th>1</th>\n",
       "      <td>4</td>\n",
       "      <td>6</td>\n",
       "      <td>[0, 1, 0, 1]</td>\n",
       "      <td>8.0</td>\n",
       "      <td>9.776367</td>\n",
       "      <td>0.172874</td>\n",
       "    </tr>\n",
       "    <tr>\n",
       "      <th>2</th>\n",
       "      <td>8</td>\n",
       "      <td>28</td>\n",
       "      <td>[1, 0, 1, 1, 1, 0, 0, 0]</td>\n",
       "      <td>49.0</td>\n",
       "      <td>54.305664</td>\n",
       "      <td>0.411418</td>\n",
       "    </tr>\n",
       "  </tbody>\n",
       "</table>\n",
       "</div>"
      ],
      "text/plain": [
       "   |V|  |E|                                          solution  value  \\\n",
       "0   16  120  [1, 0, 0, 0, 0, 1, 1, 1, 1, 0, 1, 0, 1, 1, 0, 1]  337.0   \n",
       "1    4    6                                      [0, 1, 0, 1]    8.0   \n",
       "2    8   28                          [1, 0, 1, 1, 1, 0, 0, 0]   49.0   \n",
       "\n",
       "        bound  solution_time  \n",
       "0  322.776367       6.453331  \n",
       "1    9.776367       0.172874  \n",
       "2   54.305664       0.411418  "
      ]
     },
     "execution_count": 26,
     "metadata": {},
     "output_type": "execute_result"
    }
   ],
   "source": [
    "path = os.getcwd()\n",
    "print(\"current working directory: \", path)\n",
    "\n",
    "#path = os.path.join(path,\"../../notebooks\") # uncomment once if necessary\n",
    "# change the directory\n",
    "os.chdir(path)\n",
    "\n",
    "# create the pandas DataFrame and save the results\n",
    "df = pd.DataFrame(results, columns=columns)\n",
    "df.to_csv(\"results/QAOA\")\n",
    "df"
   ]
  },
  {
   "attachments": {},
   "cell_type": "markdown",
   "metadata": {},
   "source": [
    "### 5. Bibliography <a name=\"bibliography\"></a>"
   ]
  },
  {
   "attachments": {},
   "cell_type": "markdown",
   "metadata": {},
   "source": [
    "1. Farhi, E., Goldstone, J., & Gutmann, S. (2014). A quantum approximate optimization algorithm. arXiv preprint arXiv:1411.4028."
   ]
  },
  {
   "attachments": {},
   "cell_type": "markdown",
   "metadata": {},
   "source": []
  }
 ],
 "metadata": {
  "kernelspec": {
   "display_name": "Python3-quantum2",
   "language": "python",
   "name": "quantum2"
  },
  "language_info": {
   "codemirror_mode": {
    "name": "ipython",
    "version": 3
   },
   "file_extension": ".py",
   "mimetype": "text/x-python",
   "name": "python",
   "nbconvert_exporter": "python",
   "pygments_lexer": "ipython3",
   "version": "3.8.5"
  },
  "orig_nbformat": 4
 },
 "nbformat": 4,
 "nbformat_minor": 2
}
