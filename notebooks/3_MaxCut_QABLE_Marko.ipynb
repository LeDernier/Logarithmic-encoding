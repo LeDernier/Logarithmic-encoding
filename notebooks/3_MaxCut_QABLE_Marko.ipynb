{
 "cells": [
  {
   "attachments": {},
   "cell_type": "markdown",
   "metadata": {},
   "source": [
    "### <center> Resolution of Max-Cut using a logarithmic encoding and Pauli decomposition. </center>\n",
    "\n",
    "<center> Author : Leder Aguirre </center>\n",
    "<center> Date : 2023 </center>"
   ]
  },
  {
   "attachments": {},
   "cell_type": "markdown",
   "metadata": {},
   "source": [
    "### Table of contents\n",
    "\n",
    "1. [Introduction](#introduction)\n",
    "    1. [Problem](#problem)\n",
    "    2. [Algorithm](#algorithm)\n",
    "    3. [Grouping the Pauli strings](#pauli_group)\n",
    "2. [Importations](#importations)\n",
    "3. [Toy example](#toy_example)\n",
    "    1. [Abelian Grouping](#abelian_grouping_1)\n",
    "    2. [Dense grouping](#dense_grouping_1)\n",
    "4. [Performance tests on random instances](#random_instances)\n",
    "    1. [Abelian Grouping](#abelian_grouping_2)\n",
    "    2. [Dense grouping](#dense_grouping_2)\n",
    "5. [Bibliography](#bibliography)\n",
    "$\\renewcommand{\\ket}[1]{\\left|{#1}\\right\\rangle}\n",
    "\\renewcommand{\\bra}[1]{\\left\\langle{#1}\\right|}\n",
    "\\newcommand{\\ceil}[1]{\\left\\lceil{ #1 }\\right\\rceil}\n",
    "\\newcommand{\\floor}[1]{\\left\\lfloor{ #1 }\\right\\rfloor}\n",
    "$"
   ]
  },
  {
   "attachments": {},
   "cell_type": "markdown",
   "metadata": {},
   "source": [
    "#### Problem\n",
    "\n",
    "For an graph $G=(V,E)$ with edge weights $c_e$, the Max(imum) Cut problem is to find a cut $S \\subset V$ such that the weight of edges accross $(S,\\bar{S})$ is maximized. It can be formulated as the Quadratic Unconstrained Optimization Problem (QUBO):\n",
    "\n",
    "Let $y_i$ be the decision variable, equal to 1 if the node $i$ belongs to $S$, -1 otherwise. The optimization problem is:\n",
    "\n",
    "\\begin{align}\n",
    "\\text{max} & \\quad & \\sum_{(i,j) \\in E} w_{i,j} \\left(\\frac{1 - y_iy_j}{2} \\right)\\\\\n",
    "\\text{s.t.} & \\quad & y_i \\in \\{-1,1\\} \\quad \\forall i \\in V\n",
    "\\end{align}"
   ]
  },
  {
   "attachments": {},
   "cell_type": "markdown",
   "metadata": {},
   "source": [
    "#### Algorithm\n",
    "\n",
    "The quantum algorithm based on logarithmic encoding (QABLE) is a variational algorithm that uses an unitary $\\hat{U}(\\theta)$ characterized by the parameters $\\theta \\in \\mathbb{R}^{N}$ to prepare a quantum state $\\ket{\\psi_{\\bar{y}}}$ encoding a *particular solution* to the combinatorial optimization problem (COP), where $N$ is the number of variables. This state is prepared according to the equation below:\n",
    "\n",
    "\\begin{align}\n",
    "    \\ket{\\psi_{y}} &\\coloneqq \\frac{1}{\\sqrt{N}} \\sum_{k=0}^{N} y_k \\ket{k}_{\\log(\\ceil{N})} = \\frac{1}{\\sqrt{N}} \\sum_{k=0}^{N} e^{i\\pi x_k } \\ket{k}_{\\log(\\ceil{N})}\\\\\n",
    "    &= \\frac{1}{\\sqrt{N}} \\sum_{k=0}^{N} e^{i\\pi R_f(\\theta_k) } \\ket{k}_{\\log(\\ceil{N})} = \\hat{U}(\\theta) \\sum_{k=0}^{N} \\ket{k}_{\\log(\\ceil{N})} \\nonumber\\\\\n",
    "    &= \\hat{U}(\\theta) \\ket{+ \\dots +}_{\\log(\\ceil{N})} = \\hat{U}(\\theta) \\hat{\\mathcal{H}}^{\\otimes \\log(\\ceil{N})} \\ket{0}_{\\log(\\ceil{N})}\n",
    "\\end{align}\n",
    "\n",
    "where the $x_k = R_f(\\theta_k), \\theta_k \\in \\mathbb{R}$ can be interpreted as a projection from a (possibly unfeasible) solution to the set of feasible solutions ($x_k \\in \\{0,1\\}$). The function $R_f$ is designed to be a smooth version (differentiable) of the step function.\n",
    "\n",
    "The quantum algorithm based on logarithmic encoding (QABLE) is described by the following process:\n",
    "\t\n",
    "1. Initialize $\\theta$ to suitable real values.\n",
    "2. Calculate the coefficients $c'_k$ of the QUBO matrix $Q$ in the Pauli base.\n",
    "3. For each element $J_k$ of the real $\\log(\\ceil{N})$-Pauli base:\n",
    "    1. Compute the expectation $\\bra{\\psi\\left(\\theta\\right)} \\hat{H}_P \\ket{\\psi\\left(\\theta\\right)}$ via a sampling procedure.\n",
    "    2. Find a better set of parameters $\\theta$ using a classical optimization algorithm.\n",
    "    3. Set the current parameters $\\theta$ equal to the new parameters $\\theta_{new}$.\n",
    "\n",
    "*Important remarks*:\n",
    "- The operator $\\hat{H}_p$ does not act as a Hamiltonian in this approach because we are not really evolving a quantum state.\n",
    "- This approach only uses the quantum computer to calculate the expected value faster by the logarithmic encoding and the Pauli decomposition and grouping."
   ]
  },
  {
   "attachments": {},
   "cell_type": "markdown",
   "metadata": {},
   "source": [
    "### 2. Importations <a name=\"importations\"></a>"
   ]
  },
  {
   "cell_type": "code",
   "execution_count": 1,
   "metadata": {},
   "outputs": [],
   "source": [
    "# Imports non Qiskit\n",
    "import sys\n",
    "import os\n",
    "import numpy as np\n",
    "import matplotlib.pyplot as plt\n",
    "import pandas as pd\n",
    "import networkx as nx\n",
    "import random\n",
    "\n",
    "# Imports Qiskit\n",
    "from qiskit import QuantumRegister, ClassicalRegister\n",
    "from qiskit import QuantumCircuit, execute,IBMQ\n",
    "from qiskit.visualization import plot_histogram\n",
    "\n",
    "from qiskit.circuit.library import Diagonal\n",
    "from qiskit.circuit import Parameter\n",
    "from qiskit.quantum_info import SparsePauliOp\n",
    "from qiskit.opflow import CircuitStateFn, PauliSumOp\n",
    "from qiskit.opflow import CircuitSampler, StateFn, AerPauliExpectation, PauliExpectation\n",
    "\n",
    "from qiskit import Aer\n",
    "from qiskit.utils import QuantumInstance\n",
    "\n",
    "# Imports customs\n",
    "sys.path.append('../code')\n",
    "#from c_utilities import readGraph, correct_dim\n",
    "from expectation_functions import R_map, Rf_map, Rfs_map\n",
    "from expectation_functions import getExpectedValue, parameterizedCircuit, getExpectation\n",
    "from graph_functions import get_laplacian_matrix\n",
    "from RG_generator import generate_random_graphs"
   ]
  },
  {
   "attachments": {},
   "cell_type": "markdown",
   "metadata": {},
   "source": [
    "### 3. Toy example <a name=\"toy_example\"></a>\n",
    "\n",
    "In this section, we will work with a simple instance: a graph with 4 nodes and 3 edges. We plot the graph below so it is clear that the optimal value is 3 and the solution is given by the partition $C = \\{\\{0,2\\}, \\{1,3\\} \\}$."
   ]
  },
  {
   "cell_type": "code",
   "execution_count": 5,
   "metadata": {},
   "outputs": [
    {
     "data": {
      "image/png": "[encoded data removed]",
      "text/plain": [
       "<Figure size 432x288 with 1 Axes>"
      ]
     },
     "metadata": {},
     "output_type": "display_data"
    }
   ],
   "source": [
    "## read the graph\n",
    "G = nx.readwrite.edgelist.read_weighted_edgelist(\"../created_data/toy_graph_4.col\")    # toy example: 4 nodes, 3 edges\n",
    "N = G.number_of_nodes()\n",
    "log_N = int(np.ceil(np.log2(N))) # smaller k such that k >= log2(N)\n",
    "N_ = 2**log_N                   # corrected number of nodes so that N = 2^k for some k\n",
    "\n",
    "## draw the graph\n",
    "pos = nx.circular_layout(G)\n",
    "nx.draw(G, pos, with_labels=True)\n",
    "#nx.draw_networkx_edge_labels(G, pos)\n",
    "plt.show()"
   ]
  },
  {
   "attachments": {},
   "cell_type": "markdown",
   "metadata": {},
   "source": [
    "#### 3.2 Ansatz\n",
    "##### 3.2.1 Initializing qubits\n",
    "\n",
    "Before applying the unitary transformation $U(\\theta)$, we wish to bring the qubits into the equal superposition state by applying a Hadamard gate on each qubit."
   ]
  },
  {
   "cell_type": "code",
   "execution_count": 9,
   "metadata": {},
   "outputs": [
    {
     "data": {
      "image/png": "[encoded data removed]",
      "text/plain": [
       "<Figure size 146.652x144.48 with 1 Axes>"
      ]
     },
     "execution_count": 9,
     "metadata": {},
     "output_type": "execute_result"
    }
   ],
   "source": [
    "qc_init = QuantumCircuit(log_N)\n",
    "for i in range(log_N):\n",
    "    qc_init.h(i)\n",
    "\n",
    "qc_init.draw()"
   ]
  },
  {
   "attachments": {},
   "cell_type": "markdown",
   "metadata": {},
   "source": [
    "##### 3.2.2 Constructing the unitary transformation $U(\\theta)$\n",
    "\n",
    "For a fixed $\\theta \\in \\mathbb{R}^{|V|}$, the unitary transformation $U(\\theta) = \\text{diag}(( e^{i\\pi R_f(\\theta_k) })_k)$ only have entries in $\\{-1,0,1\\}$. A diagonal operator with entries in $\\{-1,1\\}$ ca be implemented in terms of uniformly controlled rotation [3]."
   ]
  },
  {
   "cell_type": "code",
   "execution_count": 8,
   "metadata": {},
   "outputs": [
    {
     "data": {
      "image/png": "[encoded data removed]",
      "text/plain": [
       "<Figure size 206.852x144.48 with 1 Axes>"
      ]
     },
     "execution_count": 8,
     "metadata": {},
     "output_type": "execute_result"
    }
   ],
   "source": [
    "## visual verification of psi\n",
    "\n",
    "# parameters\n",
    "theta = [random.randint(0,3)/4 for i in range(2**log_N)]    # divided by 4 to get an infeasible initial solution and by 2 to get a feasible one\n",
    "R_f = Rf_map(theta)\n",
    "U_diag = np.exp(complex(0,np.pi)*R_f)\n",
    "\n",
    "# quantum circuit\n",
    "qc_u = Diagonal(U_diag)\n",
    "\n",
    "#qc.decompose(reps=3).draw(output=\"mpl\")\n",
    "qc_u.draw()"
   ]
  },
  {
   "attachments": {},
   "cell_type": "markdown",
   "metadata": {},
   "source": [
    "##### 3.2.4 Assemble the quantum ciruit\n",
    "\n",
    "Now we have got all building blocks we need. It's time to assemble the above parts together to make a complete parametrized quantum circuit."
   ]
  },
  {
   "cell_type": "code",
   "execution_count": 12,
   "metadata": {},
   "outputs": [
    {
     "data": {
      "image/png": "[encoded data removed]",
      "text/plain": [
       "<Figure size 267.052x144.48 with 1 Axes>"
      ]
     },
     "execution_count": 12,
     "metadata": {},
     "output_type": "execute_result"
    }
   ],
   "source": [
    "qc_qableM = QuantumCircuit(log_N)\n",
    "qc_qableM.append(qc_init, range(log_N))\n",
    "qc_qableM.append(qc_u, range(log_N))\n",
    "\n",
    "qc_qableM.decompose().decompose().draw()    # decompose only once to see the two blocks"
   ]
  },
  {
   "attachments": {},
   "cell_type": "markdown",
   "metadata": {},
   "source": [
    "#### 3.3 Solve the instance\n",
    "##### 3.3.1 Decompose the QUBO matrix in the Pauli base\n",
    "\n",
    "To calculate the expectation value, we write the QUBO matrix $Q = -\\frac{L}{4}$ in the Pauli base (L is the Laplacian matrix).\n",
    "\n",
    "\\begin{align}\n",
    "    Q = \\sum_{k=0}^{|V|^2 - 1} c_k J_k\n",
    "\\end{align}\n",
    "\n",
    "where $J_k$ is a Pauli string of size n = $\\ceil{\\log(|V|)}$ (the tensor product of $n$ Pauli matrices) and $c_k = \\frac{1}{2^n} Tr(J_k Q) \\forall k$. By linearity of the expectation value, we have:\n",
    "\n",
    "\\begin{align}\n",
    "    \\bra{\\psi} \\hat{Q} \\ket{\\psi} = \\sum_{k=0}^{|V|^2 - 1} c_k \\bra{\\psi} \\hat{J}_k \\ket{\\psi}\n",
    "\\end{align}\n",
    "\n",
    "This would require $|V|^2$ independent quantum circuits, but it is possible to get the same result with only $\\mathcal{O}(|V|^{\\log(3)})$. This reduction comes from the fact that we can use the same circuit to calculate the expectation of two Pauli strings $J_k,J_k'$ that commute. It is possible to compute fastly a partition consisting in $\\mathcal{O}(|V|^{\\log(3)})$ sets of pairwise commuting Pauli strings [4]."
   ]
  },
  {
   "cell_type": "code",
   "execution_count": 15,
   "metadata": {},
   "outputs": [
    {
     "ename": "NameError",
     "evalue": "name 'Q' is not defined",
     "output_type": "error",
     "traceback": [
      "\u001b[1;31m---------------------------------------------------------------------------\u001b[0m",
      "\u001b[1;31mNameError\u001b[0m                                 Traceback (most recent call last)",
      "\u001b[1;32m~\\AppData\\Local\\Temp/ipykernel_19012/2551678778.py\u001b[0m in \u001b[0;36m<module>\u001b[1;34m\u001b[0m\n\u001b[0;32m      1\u001b[0m \u001b[1;31m## verification of the Hamiltonien decomposition in Pauli strings\u001b[0m\u001b[1;33m\u001b[0m\u001b[1;33m\u001b[0m\u001b[1;33m\u001b[0m\u001b[0m\n\u001b[0;32m      2\u001b[0m \u001b[1;33m\u001b[0m\u001b[0m\n\u001b[1;32m----> 3\u001b[1;33m \u001b[0mQ\u001b[0m \u001b[1;33m=\u001b[0m \u001b[1;33m(\u001b[0m\u001b[1;33m-\u001b[0m\u001b[1;36m2\u001b[0m\u001b[1;33m**\u001b[0m\u001b[1;33m(\u001b[0m\u001b[0mlog_N\u001b[0m\u001b[1;33m-\u001b[0m\u001b[1;36m2\u001b[0m\u001b[1;33m)\u001b[0m\u001b[1;33m)\u001b[0m\u001b[1;33m*\u001b[0m\u001b[0mget_laplacian_matrix\u001b[0m\u001b[1;33m(\u001b[0m\u001b[0mQ\u001b[0m\u001b[1;33m)\u001b[0m             \u001b[1;31m# Observable\u001b[0m\u001b[1;33m\u001b[0m\u001b[1;33m\u001b[0m\u001b[0m\n\u001b[0m\u001b[0;32m      4\u001b[0m \u001b[0mpauli_op\u001b[0m \u001b[1;33m=\u001b[0m \u001b[0mSparsePauliOp\u001b[0m\u001b[1;33m.\u001b[0m\u001b[0mfrom_operator\u001b[0m\u001b[1;33m(\u001b[0m\u001b[0mQ\u001b[0m\u001b[1;33m)\u001b[0m\u001b[1;33m\u001b[0m\u001b[1;33m\u001b[0m\u001b[0m\n\u001b[0;32m      5\u001b[0m \u001b[0mop\u001b[0m \u001b[1;33m=\u001b[0m \u001b[0mPauliSumOp\u001b[0m\u001b[1;33m(\u001b[0m\u001b[0mpauli_op\u001b[0m\u001b[1;33m)\u001b[0m\u001b[1;33m\u001b[0m\u001b[1;33m\u001b[0m\u001b[0m\n",
      "\u001b[1;31mNameError\u001b[0m: name 'Q' is not defined"
     ]
    }
   ],
   "source": [
    "## verification of the Hamiltonien decomposition in Pauli strings\n",
    "\n",
    "Q = (-2**(log_N-2))*get_laplacian_matrix(G)             # Observable\n",
    "pauli_op = SparsePauliOp.from_operator(Q)\n",
    "op = PauliSumOp(pauli_op)\n",
    "pauli_op.to_list()"
   ]
  },
  {
   "attachments": {},
   "cell_type": "markdown",
   "metadata": {},
   "source": [
    "##### 3.3.2 Execute the ansatz\n",
    "\n",
    "Let us execute the circuit with a Qiskit qasm-simulator which runs locally on your pc or laptop. To use a classical optimizer, we need to provide a Python function that for a fixed $(\\beta, \\gamma)$, gives us the expectation value. In this implementation we will use the second architecture and we define $\\theta = (\\beta,\\gamma)$. For $T > 1$, we only have to define $\\theta \\in \\mathbb{R}^{2T}$, where the first T entries are the values of $\\beta \\in \\mathbb{R}^T$, while the other $T$ entries are the entries for $\\gamma \\in \\mathbb{R}^T$."
   ]
  },
  {
   "attachments": {},
   "cell_type": "markdown",
   "metadata": {},
   "source": [
    "### 5. Bibliography <a name=\"bibliography\"></a>"
   ]
  },
  {
   "attachments": {},
   "cell_type": "markdown",
   "metadata": {},
   "source": [
    "1. Marko J Rancic. “Noisy intermediate-scale quantum computing algorithm for\n",
    "solving an n-vertex MaxCut problem with log (n) qubits”. In: Physical Review\n",
    "Research 5.1 (2023), p. L012021. <a name=\"marko_2023\"></a>\n",
    "2. Yagnik Chatterjee, Eric Bourreau, and Marko J Rancic. “Solving various NPHard\n",
    "problems using exponentially fewer qubits on a Quantum Computer”.\n",
    "In: arXiv preprint arXiv:2301.06978 (2023). <a name=\"chatterjee_2023\"></a>\n",
    "3. Shende, V. V., Bullock, S. S., & Markov, I. L. (2005, January). Synthesis of quantum logic circuits. In Proceedings of the 2005 Asia and South Pacific Design Automation Conference (pp. 272-275).\n",
    "4. Hamamura, I., & Imamichi, T. (2020). Efficient evaluation of quantum observables using entangled measurements. npj Quantum Information, 6(1), 56."
   ]
  },
  {
   "attachments": {},
   "cell_type": "markdown",
   "metadata": {},
   "source": []
  }
 ],
 "metadata": {
  "kernelspec": {
   "display_name": "Python3-quantum2",
   "language": "python",
   "name": "quantum2"
  },
  "language_info": {
   "codemirror_mode": {
    "name": "ipython",
    "version": 3
   },
   "file_extension": ".py",
   "mimetype": "text/x-python",
   "name": "python",
   "nbconvert_exporter": "python",
   "pygments_lexer": "ipython3",
   "version": "3.8.5"
  },
  "orig_nbformat": 4
 },
 "nbformat": 4,
 "nbformat_minor": 2
}
