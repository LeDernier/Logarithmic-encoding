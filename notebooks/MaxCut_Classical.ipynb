{
 "cells": [
  {
   "attachments": {},
   "cell_type": "markdown",
   "metadata": {},
   "source": [
    "### <center> NISQ computing algorithm for solving an n-vertex MaxCut problem with log(N) qubits. </center>\n",
    "\n",
    "<center> Author : Leder Aguirre </center>\n",
    "<center> Date : 2023 </center>"
   ]
  },
  {
   "attachments": {},
   "cell_type": "markdown",
   "metadata": {},
   "source": [
    "### Table of contents\n",
    "\n",
    "1. [Introduction](#introduction)<br>\n",
    "2. [Importations](#importations)<br>\n",
    "3. [Algorithm](#algorithm)\n",
    "4. [Tests](#tests)\n",
    "    1. [Optimization using COBYLA](#optimization_COBYLA)\n",
    "    2. [Optimization using Genetic Algorithms](#optimization_GA)\n",
    "5. [Bibliography](#bibliography)\n",
    "$\\renewcommand{\\ket}[1]{\\left|{#1}\\right\\rangle}\n",
    "\\renewcommand{\\bra}[1]{\\left\\langle{#1}\\right|}$"
   ]
  },
  {
   "attachments": {},
   "cell_type": "markdown",
   "metadata": {},
   "source": [
    "### 1. Introduction <a name=\"introduction\"></a>"
   ]
  },
  {
   "attachments": {},
   "cell_type": "markdown",
   "metadata": {},
   "source": [
    "#### Problem\n",
    "\n",
    "For an graph $G=(V,E)$ with edge weights $c_e$, the Max(imum) Cut problem is to find a cut $S \\subset V$ such that the weight of edges accross $(S,\\bar{S})$ is maximized. It can be formulated as the Quadratic Unconstrained Optimization Problem (QUBO):\n",
    "\n",
    "Let $y_u$ be the decision variable, equal to 1 if the node $u$ belongs to $S$, 0 otherwise. The optimization problem is:\n",
    "\n",
    "\\begin{align}\n",
    "\\text{max} & \\quad & \\sum_{(u,v) \\in E} w_{uv} \\left(\\frac{1 - y_uy_v}{2} \\right)\\\\\n",
    "\\text{s.t.} & \\quad & y_v \\in \\{-1,1\\} \\quad \\forall v \\in V\n",
    "\\end{align}\n"
   ]
  },
  {
   "attachments": {},
   "cell_type": "markdown",
   "metadata": {},
   "source": [
    "#### Gatson & Williamson approximative algorithm\n",
    "\n",
    "In the objective function, we replace the $y_i y_j$ by $v_i \\dot v_j$, where $v_i \\in \\mathbb{R}^{|V|}$.²²"
   ]
  },
  {
   "attachments": {},
   "cell_type": "markdown",
   "metadata": {},
   "source": [
    "### 2. Importations <a name=\"importations\"></a>"
   ]
  },
  {
   "cell_type": "code",
   "execution_count": 4,
   "metadata": {},
   "outputs": [],
   "source": [
    "# Imports non Qiskit\n",
    "import random\n",
    "import sys\n",
    "import numpy as np\n",
    "import matplotlib.pyplot as plt\n",
    "import networkx as nx\n",
    "\n",
    "# Imports Qiskit\n",
    "from qiskit import QuantumRegister, ClassicalRegister\n",
    "from qiskit import QuantumCircuit, execute,IBMQ\n",
    "from qiskit.visualization import plot_histogram\n",
    "\n",
    "from qiskit.circuit.library import Diagonal\n",
    "from qiskit.quantum_info import SparsePauliOp\n",
    "from qiskit.opflow import CircuitStateFn, PauliSumOp\n",
    "from qiskit.opflow import CircuitSampler, StateFn, AerPauliExpectation, PauliExpectation\n",
    "\n",
    "from qiskit import Aer\n",
    "from qiskit.utils import QuantumInstance\n",
    "\n",
    "# Imports customs\n",
    "sys.path.append('..\\\\code')\n",
    "#from c_utilities import readGraph, correct_dim\n",
    "from expectation_functions import R_map, Rf_map, Rfs_map\n",
    "from expectation_functions import getExpectedValue, parameterizedCircuit, getExpectation"
   ]
  },
  {
   "attachments": {},
   "cell_type": "markdown",
   "metadata": {},
   "source": [
    "### 3. Algorithm <a name=\"algorithm\"></a>"
   ]
  },
  {
   "cell_type": "code",
   "execution_count": null,
   "metadata": {},
   "outputs": [],
   "source": []
  }
 ],
 "metadata": {
  "kernelspec": {
   "display_name": "Python3-quantum2",
   "language": "python",
   "name": "quantum2"
  },
  "language_info": {
   "codemirror_mode": {
    "name": "ipython",
    "version": 3
   },
   "file_extension": ".py",
   "mimetype": "text/x-python",
   "name": "python",
   "nbconvert_exporter": "python",
   "pygments_lexer": "ipython3",
   "version": "3.8.5"
  },
  "orig_nbformat": 4
 },
 "nbformat": 4,
 "nbformat_minor": 2
}
