{
 "cells": [
  {
   "attachments": {},
   "cell_type": "markdown",
   "metadata": {},
   "source": [
    "### <center> Resolution of Max-Cut using the Goemans and Williamson approximative algorithm. </center>\n",
    "\n",
    "<center> Author : Leder Aguirre </center>\n",
    "<center> Date : 2023 </center>"
   ]
  },
  {
   "attachments": {},
   "cell_type": "markdown",
   "metadata": {},
   "source": [
    "### Table of contents\n",
    "\n",
    "1. [Introduction](#introduction)<br>\n",
    "    1. [Problem](#problem)\n",
    "    2. [Algorithm](#algorithm)\n",
    "2. [Importations](#importations)<br>\n",
    "3. [Toy example](#toy_example)\n",
    "4. [Performance tests on random instances](#random_instances)\n",
    "5. [Bibliography](#bibliography)\n",
    "$\\renewcommand{\\ket}[1]{\\left|{#1}\\right\\rangle}\n",
    "\\renewcommand{\\bra}[1]{\\left\\langle{#1}\\right|}$"
   ]
  },
  {
   "attachments": {},
   "cell_type": "markdown",
   "metadata": {},
   "source": [
    "### 1. Introduction <a name=\"introduction\"></a>"
   ]
  },
  {
   "attachments": {},
   "cell_type": "markdown",
   "metadata": {},
   "source": [
    "#### Problem\n",
    "\n",
    "For an graph $G=(V,E)$ with edge weights $c_e$, the Max(imum) Cut problem is to find a cut $S \\subset V$ such that the weight of edges accross $(S,\\bar{S})$ is maximized. It can be formulated as the Quadratic Unconstrained Optimization Problem (QUBO):\n",
    "\n",
    "Let $y_i$ be the decision variable, equal to 1 if the node $i$ belongs to $S$, -1 otherwise. The optimization problem is:\n",
    "\n",
    "\\begin{align}\n",
    "\\text{max} & \\quad & \\sum_{(i,j) \\in E} w_{i,j} \\left(\\frac{1 - y_iy_j}{2} \\right)\\\\\n",
    "\\text{s.t.} & \\quad & y_i \\in \\{-1,1\\} \\quad \\forall i \\in V\n",
    "\\end{align}\n"
   ]
  },
  {
   "attachments": {},
   "cell_type": "markdown",
   "metadata": {},
   "source": [
    "#### Goemans & Williamson approximative algorithm for Max Cut\n",
    "\n",
    "In the objective function, we replace the $y_i y_j$ by $v_i \\cdot v_j$, where $v_i \\in {S}_{|V|} \\subset \\mathbb{R}^{|V|}$ are unitary vectors, $\\cdot$ denotes the inner product. Then, we replace each $v_i \\cdot v_j$ by the element $p_{i,j}$ of the Gram matrix of the vectors $(v_i)_i$. Therefore, $P = V^T V$, where the columns of $V$ are the column vectors $v_i$. By construction, $P$ is positive semidefinite, so the proposed algorithm follows the following process:\n",
    "\n",
    "1. Find a symmetric matrix $P = (p_{i,j})_{i,j \\in V}$ that is solution to the following optimization problem:  \n",
    "\n",
    "\\begin{align}\n",
    "    &\\text{max} & \\quad & \\sum_{(i,j) \\in E} w_{i,j} \\left( \\frac{1 - p_{i,j}}{2} \\right) \\\\\n",
    "    &\\text{s.t.} & & p_{i,i} = 1 \\: &  \\forall i \\in V &\\\\\n",
    "    & & & x^TPx \\geq 0 \\: & \\forall x \\in \\mathbb{R}^{|V|} &\n",
    "\\end{align}\n",
    "\n",
    "where the last infinite set of constraints is handled using a separation oracle. In particular, at each iteration we verify that $P$ has non-negative eigenvalues. If at iteration $k$, $P$ has a negative eigenvalue, we add a constraint of the of the form (3) with $x$ being the eigenvector associated to the negative eigenvalue.\n",
    "\n",
    "2. Using Cholesky decomposition on $P$, we find a matrix $V$ so that $V^T V = P$.\n",
    "3. To separate the nodes using the column vectors in $V$, Goemans & Williamson proposed to choose a uniformly random hyperplane ghrough the origin and use it to cut vectors into two parts, as in the image below.\n",
    "\n",
    "A way to draw a random hyperplane is to pick $r \\in \\mathbb{R}^{|V|}$, the normal to the hyperplane, randomly from the unit sphere. The partition is done using the formula: $\\tilde{y}_i = sgn(r \\cdot v_i)$ for each node $i$, where $\\tilde{y}_i$ is a particular value for the variable $y_i$ and $sgn(\\cdot)$ is the sign function."
   ]
  },
  {
   "attachments": {},
   "cell_type": "markdown",
   "metadata": {},
   "source": [
    "#### Performance of the Goemans & Williamson algorithm\n",
    "\n",
    "Let $S_r$ be the cut associated to the random vector $r \\in \\mathbb{R}^{|V|}$, $Alg_{GW}(G)$ the expected value of the solution given by this cut (Goemans & Williamson algorithm), $SDP(G)$ the value of the SDP relaxation and $v(G)$ the value of the optimal solution. These value functions satisfy:\n",
    "\n",
    "\\begin{align}\n",
    "    Alg_{GW}(G) &\\coloneqq \\mathbb{E}(\\text{value of } S_r) = \\mathbb{E}\\left( \\sum_{(i,j) \\in E} w_{i,j} \\mathbf{1}_{(i,j) \\in S_r} \\right) = \\sum_{(i,j) \\in E} w_{i,j} \\mathbb{P}\\left((i,j) \\in S_r\\right) = \\sum_{(i,j) \\in E} w_{i,j} \\frac{\\arccos(v_i \\cdot v_j)}{\\pi} \\\\\n",
    "    &\\geq 0.87854 \\sum_{(i,j) \\in E} w_{i,j} \\frac{1 - p_{i,j}}{2} = 0.87854 \\cdot SDP(G) \\geq 0.87854 \\cdot v(G)\n",
    "\\end{align}"
   ]
  },
  {
   "attachments": {},
   "cell_type": "markdown",
   "metadata": {},
   "source": [
    "### 2. Importations <a name=\"importations\"></a>"
   ]
  },
  {
   "cell_type": "code",
   "execution_count": 2,
   "metadata": {},
   "outputs": [],
   "source": [
    "# Imports non Qiskit\n",
    "import sys\n",
    "import os\n",
    "import numpy as np\n",
    "import matplotlib.pyplot as plt\n",
    "import pandas as pd\n",
    "import networkx as nx\n",
    "import random\n",
    "\n",
    "# Imports Qiskit\n",
    "from qiskit import QuantumRegister, ClassicalRegister\n",
    "from qiskit import QuantumCircuit, execute,IBMQ\n",
    "from qiskit.visualization import plot_histogram\n",
    "\n",
    "from qiskit.circuit.library import Diagonal\n",
    "from qiskit.quantum_info import SparsePauliOp\n",
    "from qiskit.opflow import CircuitStateFn, PauliSumOp\n",
    "from qiskit.opflow import CircuitSampler, StateFn, AerPauliExpectation, PauliExpectation\n",
    "\n",
    "from qiskit import Aer\n",
    "from qiskit.utils import QuantumInstance\n",
    "\n",
    "# Imports customs\n",
    "sys.path.append('../code')\n",
    "#from c_utilities import readGraph, correct_dim\n",
    "from expectation_functions import R_map, Rf_map, Rfs_map\n",
    "from expectation_functions import getExpectedValue, parameterizedCircuit, getExpectation\n",
    "from graph_functions import get_laplacian_matrix\n",
    "from GW_algorithm import goemans_williamson\n",
    "from RG_generator import generate_random_graphs"
   ]
  },
  {
   "attachments": {},
   "cell_type": "markdown",
   "metadata": {},
   "source": [
    "### 3. Toy example <a name=\"toy_example\"></a>\n",
    "\n",
    "In this section, we will work with a simple instance: a graph with 4 nodes and 3 edges."
   ]
  },
  {
   "cell_type": "code",
   "execution_count": 3,
   "metadata": {},
   "outputs": [
    {
     "data": {
      "image/png": "[encoded data removed]",
      "text/plain": [
       "<Figure size 432x288 with 1 Axes>"
      ]
     },
     "metadata": {},
     "output_type": "display_data"
    }
   ],
   "source": [
    "## read the graph\n",
    "G = nx.readwrite.edgelist.read_weighted_edgelist(\"../created_data/toy_graph_4.col\")    # toy example: 4 nodes, 3 edges\n",
    "\n",
    "## draw the graph\n",
    "pos = nx.spring_layout(G)\n",
    "nx.draw(G, pos, with_labels=True)\n",
    "nx.draw_networkx_edge_labels(G, pos)\n",
    "plt.show() "
   ]
  },
  {
   "cell_type": "code",
   "execution_count": 4,
   "metadata": {},
   "outputs": [
    {
     "name": "stdout",
     "output_type": "stream",
     "text": [
      "SDP bound:  2.9999999783257065\n",
      "value of the rounded solution:  3.0\n",
      "solution:  [1.0, -1.0, 1.0, -1.0]\n",
      "solution_time:  0.14221\n"
     ]
    }
   ],
   "source": [
    "## defining some useful parameters\n",
    "num_nodes = G.number_of_nodes()\n",
    "nodes_labels = [int(node) for node in G.nodes]\n",
    "\n",
    "## running the random algorithm once\n",
    "\n",
    "result = goemans_williamson(G)\n",
    "bound = result[2]\n",
    "score = result[1]\n",
    "solution = result[0]\n",
    "solution_time = result[3]\n",
    "solution_ord = [solution[x] for _,x in sorted(zip(nodes_labels,list(range(num_nodes))))]\n",
    "print(\"SDP bound: \", bound)\n",
    "print(\"value of the rounded solution: \", score)\n",
    "print(\"solution: \", solution_ord)\n",
    "print(\"solution_time: \", solution_time)"
   ]
  },
  {
   "attachments": {},
   "cell_type": "markdown",
   "metadata": {},
   "source": [
    "### 4. Performance tests on random instances <a name=\"random_instances\"></a>\n",
    "\n",
    "In this section we want to measure the performance for a set of random graphs."
   ]
  },
  {
   "cell_type": "code",
   "execution_count": 5,
   "metadata": {},
   "outputs": [
    {
     "name": "stdout",
     "output_type": "stream",
     "text": [
      "current working directory:  d:\\Documents\\Cycle d'Ingénieur\\4A\\Stage 4A\\Stage UMA\\code\\Logarithmic-encoding\\notebooks\n",
      "['solution', 'value', 'SDP_bound', 'solution_time']\n"
     ]
    }
   ],
   "source": [
    "# folder Path\n",
    "path = os.getcwd()\n",
    "#path = os.path.join(path,\"..\\\\created_data\\\\random_graphs\")\n",
    "print(\"current working directory: \", path)\n",
    "  \n",
    "# change the directory\n",
    "os.chdir(path)\n",
    "  \n",
    "  \n",
    "# iterate through all file\n",
    "root_name = \"\"\n",
    "results = []\n",
    "columns = [\"solution\", \"value\", \"SDP_bound\", \"solution_time\"]\n",
    "print(columns)\n",
    "for file in os.listdir():\n",
    "    # Check whether file is in text format or not\n",
    "    if file.endswith(root_name+\".col\"):\n",
    "        file_path = f\"{path}/{file}\"\n",
    "  \n",
    "        # read the graph instance\n",
    "        G = nx.readwrite.edgelist.read_weighted_edgelist(file_path)\n",
    "\n",
    "        ## defining some useful parameters\n",
    "        num_nodes = G.number_of_nodes()\n",
    "        nodes_labels = [int(node) for node in G.nodes]\n",
    "\n",
    "        ## running the random algorithm once\n",
    "\n",
    "        result = goemans_williamson(G)\n",
    "        bound = result[2]\n",
    "        score = result[1]\n",
    "        solution = result[0]\n",
    "        solution_time = result[3]\n",
    "        solution_ord = [solution[x] for _,x in sorted(zip(nodes_labels,list(range(num_nodes))))]\n",
    "        result = [solution_ord, score, bound, solution_time]\n",
    "        results.append(result)\n",
    "        print(solution, \", \", score, \", \", bound, \", \", solution_time)"
   ]
  },
  {
   "cell_type": "code",
   "execution_count": 6,
   "metadata": {},
   "outputs": [
    {
     "data": {
      "text/html": [
       "<div>\n",
       "<style scoped>\n",
       "    .dataframe tbody tr th:only-of-type {\n",
       "        vertical-align: middle;\n",
       "    }\n",
       "\n",
       "    .dataframe tbody tr th {\n",
       "        vertical-align: top;\n",
       "    }\n",
       "\n",
       "    .dataframe thead th {\n",
       "        text-align: right;\n",
       "    }\n",
       "</style>\n",
       "<table border=\"1\" class=\"dataframe\">\n",
       "  <thead>\n",
       "    <tr style=\"text-align: right;\">\n",
       "      <th></th>\n",
       "      <th>solution</th>\n",
       "      <th>value</th>\n",
       "      <th>SDP_bound</th>\n",
       "      <th>solution_time</th>\n",
       "    </tr>\n",
       "  </thead>\n",
       "  <tbody>\n",
       "  </tbody>\n",
       "</table>\n",
       "</div>"
      ],
      "text/plain": [
       "Empty DataFrame\n",
       "Columns: [solution, value, SDP_bound, solution_time]\n",
       "Index: []"
      ]
     },
     "execution_count": 6,
     "metadata": {},
     "output_type": "execute_result"
    }
   ],
   "source": [
    "# create the pandas DataFrame with column name is provided explicitly\n",
    "df = pd.DataFrame(results, columns=columns)\n",
    "df.to_csv(\"results/GW_algorithm\")\n",
    "df\n",
    "# saving the results in a .txt file"
   ]
  },
  {
   "cell_type": "code",
   "execution_count": null,
   "metadata": {},
   "outputs": [],
   "source": []
  }
 ],
 "metadata": {
  "kernelspec": {
   "display_name": "Python3-quantum2",
   "language": "python",
   "name": "quantum2"
  },
  "language_info": {
   "codemirror_mode": {
    "name": "ipython",
    "version": 3
   },
   "file_extension": ".py",
   "mimetype": "text/x-python",
   "name": "python",
   "nbconvert_exporter": "python",
   "pygments_lexer": "ipython3",
   "version": "3.8.5"
  },
  "orig_nbformat": 4
 },
 "nbformat": 4,
 "nbformat_minor": 2
}
