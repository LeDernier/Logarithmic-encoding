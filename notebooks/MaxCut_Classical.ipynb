{
 "cells": [
  {
   "attachments": {},
   "cell_type": "markdown",
   "metadata": {},
   "source": [
    "### <center> NISQ computing algorithm for solving an n-vertex MaxCut problem with log(N) qubits. </center>\n",
    "\n",
    "<center> Author : Leder Aguirre </center>\n",
    "<center> Date : 2023 </center>"
   ]
  },
  {
   "attachments": {},
   "cell_type": "markdown",
   "metadata": {},
   "source": [
    "### Table of contents\n",
    "\n",
    "1. [Introduction](#introduction)<br>\n",
    "2. [Importations](#importations)<br>\n",
    "3. [Algorithm](#algorithm)\n",
    "4. [Tests](#tests)\n",
    "    1. [Optimization using COBYLA](#optimization_COBYLA)\n",
    "    2. [Optimization using Genetic Algorithms](#optimization_GA)\n",
    "5. [Bibliography](#bibliography)\n",
    "$\\renewcommand{\\ket}[1]{\\left|{#1}\\right\\rangle}\n",
    "\\renewcommand{\\bra}[1]{\\left\\langle{#1}\\right|}$"
   ]
  },
  {
   "attachments": {},
   "cell_type": "markdown",
   "metadata": {},
   "source": [
    "### 1. Introduction <a name=\"introduction\"></a>"
   ]
  },
  {
   "attachments": {},
   "cell_type": "markdown",
   "metadata": {},
   "source": [
    "#### Problem\n",
    "\n",
    "For an graph $G=(V,E)$ with edge weights $c_e$, the Max(imum) Cut problem is to find a cut $S \\subset V$ such that the weight of edges accross $(S,\\bar{S})$ is maximized. It can be formulated as the Quadratic Unconstrained Optimization Problem (QUBO):\n",
    "\n",
    "Let $y_i$ be the decision variable, equal to 1 if the node $i$ belongs to $S$, 0 otherwise. The optimization problem is:\n",
    "\n",
    "\\begin{align}\n",
    "\\text{max} & \\quad & \\sum_{(i,j) \\in E} w_{i,j} \\left(\\frac{1 - y_iy_j}{2} \\right)\\\\\n",
    "\\text{s.t.} & \\quad & y_i \\in \\{-1,1\\} \\quad \\forall i \\in V\n",
    "\\end{align}\n"
   ]
  },
  {
   "attachments": {},
   "cell_type": "markdown",
   "metadata": {},
   "source": [
    "#### Goemans & Williamson approximative algorithm for Max Cut\n",
    "\n",
    "In the objective function, we replace the $y_i y_j$ by $v_i \\cdot v_j$, where $v_i \\in {S}_{|V|} \\subset \\mathbb{R}^{|V|}$ are unitary vectors, $\\cdot$ denotes the inner product. Then, we replace each $v_i \\cdot v_j$ by the element $p_{i,j}$ of the Gram matrix of the vectors $(v_i)_i$. Therefore, $P = V^T V$, where the columns of $V$ are the column vectors $v_i$. By construction, $P$ is positive semidefinite, so the proposed algorithm follows the following process:\n",
    "\n",
    "1. Find a symmetric matrix $P = (p_{i,j})_{i,j \\in V}$ that is solution to the following optimization problem:  \n",
    "\n",
    "\\begin{align}\n",
    "    &\\text{max} & \\quad & \\sum_{(i,j) \\in E} w_{i,j} \\left( \\frac{1 - p_{i,j}}{2} \\right) \\\\\n",
    "    &\\text{s.t.} & & p_{i,i} = 1 \\: &  \\forall i \\in V &\\\\\n",
    "    & & & x^TPx \\geq 0 \\: & \\forall x \\in \\mathbb{R}^{|V|} &\n",
    "\\end{align}\n",
    "\n",
    "where the last infinite set of constraints is handled using a separation oracle. In particular, at each iteration we verify that $P$ has non-negative eigenvalues. If at iteration $k$, $P$ has a negative eigenvalue, we add a constraint of the of the form (3) with $x$ being the eigenvector associated to the negative eigenvalue.\n",
    "\n",
    "2. Using Cholesky decomposition on $P$, we find a matrix $V$ so that $V^T V = P$.\n",
    "3. To separate the nodes using the column vectors in $V$, Goemans & Williamson proposed to choose a uniformly random hyperplane ghrough the origin and use it to cut vectors into two parts, as in the image below.\n",
    "\n",
    "A way to draw a random hyperplane is to pick $r \\in \\mathbb{R}^{|V|}$, the normal to the hyperplane, randomly from the unit sphere. The partition is done using the formula: $\\tilde{y}_i = sgn(r \\cdot v_i)$ for each node $i$, where $\\tilde{y}_i$ is a particular value for the variable $y_i$ and $sgn(\\cdot)$ is the sign function."
   ]
  },
  {
   "attachments": {},
   "cell_type": "markdown",
   "metadata": {},
   "source": [
    "#### Performance of the Goemans & Williamson algorithm\n",
    "\n",
    "Let $S_r$ be the cut associated to the random vector $r \\in \\mathbb{R}^{|V|}$, $Alg_{GW}(G)$ the expected value of the Goemans & Williamson algorithm and $SDP(G)$ the value obtained by solving the problem using an SDP solver with running time $\\tilde{\\mathcal{O}}\\left( n^{3.5} \\log(\\epsilon^{-1}) \\right)$.\n",
    "\n",
    "\\begin{align}\n",
    "    Alg_{GW}(G) &\\coloneqq \\mathbb{E}(\\text{value of } S_r) = \\mathbb{E}\\left( \\sum_{(i,j) \\in E} w_{i,j} \\mathbf{1}_{(i,j) \\in S_r} \\right) = \\sum_{(i,j) \\in E} w_{i,j} \\mathbb{P}\\left((i,j) \\in S_r\\right) = \\sum_{(i,j) \\in E} w_{i,j} \\frac{\\arccos(v_i \\cdot v_j)}{\\pi} \\\\\n",
    "    &\\geq 0.87854 \\sum_{(i,j) \\in E} w_{i,j} \\frac{1 - p_{i,j}}{2} \\eqqcolon SDP(G)\n",
    "\\end{align}"
   ]
  },
  {
   "attachments": {},
   "cell_type": "markdown",
   "metadata": {},
   "source": [
    "### 2. Importations <a name=\"importations\"></a>"
   ]
  },
  {
   "cell_type": "code",
   "execution_count": 4,
   "metadata": {},
   "outputs": [],
   "source": [
    "# Imports non Qiskit\n",
    "import random\n",
    "import sys\n",
    "import numpy as np\n",
    "import matplotlib.pyplot as plt\n",
    "import networkx as nx\n",
    "\n",
    "# Imports Qiskit\n",
    "from qiskit import QuantumRegister, ClassicalRegister\n",
    "from qiskit import QuantumCircuit, execute,IBMQ\n",
    "from qiskit.visualization import plot_histogram\n",
    "\n",
    "from qiskit.circuit.library import Diagonal\n",
    "from qiskit.quantum_info import SparsePauliOp\n",
    "from qiskit.opflow import CircuitStateFn, PauliSumOp\n",
    "from qiskit.opflow import CircuitSampler, StateFn, AerPauliExpectation, PauliExpectation\n",
    "\n",
    "from qiskit import Aer\n",
    "from qiskit.utils import QuantumInstance\n",
    "\n",
    "# Imports customs\n",
    "sys.path.append('../code')\n",
    "#from c_utilities import readGraph, correct_dim\n",
    "from expectation_functions import R_map, Rf_map, Rfs_map\n",
    "from expectation_functions import getExpectedValue, parameterizedCircuit, getExpectation"
   ]
  },
  {
   "attachments": {},
   "cell_type": "markdown",
   "metadata": {},
   "source": [
    "### 3. Algorithm <a name=\"algorithm\"></a>"
   ]
  },
  {
   "cell_type": "code",
   "execution_count": null,
   "metadata": {},
   "outputs": [],
   "source": []
  }
 ],
 "metadata": {
  "kernelspec": {
   "display_name": "Python3-quantum2",
   "language": "python",
   "name": "quantum2"
  },
  "language_info": {
   "codemirror_mode": {
    "name": "ipython",
    "version": 3
   },
   "file_extension": ".py",
   "mimetype": "text/x-python",
   "name": "python",
   "nbconvert_exporter": "python",
   "pygments_lexer": "ipython3",
   "version": "3.8.5"
  },
  "orig_nbformat": 4
 },
 "nbformat": 4,
 "nbformat_minor": 2
}
