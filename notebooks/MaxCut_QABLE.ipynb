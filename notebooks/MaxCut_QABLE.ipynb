{
 "cells": [
  {
   "attachments": {},
   "cell_type": "markdown",
   "metadata": {},
   "source": [
    "### <center> Resolution of Max-Cut using a logarithmic encoding. </center>\n",
    "\n",
    "<center> Author : Leder Aguirre </center>\n",
    "<center> Date : 2023 </center>"
   ]
  },
  {
   "attachments": {},
   "cell_type": "markdown",
   "metadata": {},
   "source": [
    "### Table of contents\n",
    "\n",
    "1. [Introduction](#introduction)\n",
    "    1. [Problem](#problem)\n",
    "    2. [Algorithm](#algorithm)\n",
    "    3. [Grouping the Pauli strings](#pauli_group)\n",
    "2. [Importations](#importations)\n",
    "3. [Toy example](#toy_example)\n",
    "    1. [Abelian Grouping](#abelian_grouping_1)\n",
    "    2. [Dense grouping](#dense_grouping_1)\n",
    "4. [Performance tests on random instances](#random_instances)\n",
    "    1. [Abelian Grouping](#abelian_grouping_2)\n",
    "    2. [Dense grouping](#dense_grouping_2)\n",
    "5. [Bibliography](#bibliography)\n",
    "$\\renewcommand{\\ket}[1]{\\left|{#1}\\right\\rangle}\n",
    "\\renewcommand{\\bra}[1]{\\left\\langle{#1}\\right|}\n",
    "\\newcommand{\\ceil}[1]{\\left\\lceil{ #1 }\\right\\rceil}\n",
    "\\newcommand{\\floor}[1]{\\left\\lfloor{ #1 }\\right\\rfloor}\n",
    "$"
   ]
  },
  {
   "attachments": {},
   "cell_type": "markdown",
   "metadata": {},
   "source": [
    "#### Problem\n",
    "\n",
    "For an graph $G=(V,E)$ with edge weights $c_e$, the Max(imum) Cut problem is to find a cut $S \\subset V$ such that the weight of edges accross $(S,\\bar{S})$ is maximized. It can be formulated as the Quadratic Unconstrained Optimization Problem (QUBO):\n",
    "\n",
    "Let $y_i$ be the decision variable, equal to 1 if the node $i$ belongs to $S$, -1 otherwise. The optimization problem is:\n",
    "\n",
    "\\begin{align}\n",
    "\\text{max} & \\quad & \\sum_{(i,j) \\in E} w_{i,j} \\left(\\frac{1 - y_iy_j}{2} \\right)\\\\\n",
    "\\text{s.t.} & \\quad & y_i \\in \\{-1,1\\} \\quad \\forall i \\in V\n",
    "\\end{align}"
   ]
  },
  {
   "attachments": {},
   "cell_type": "markdown",
   "metadata": {},
   "source": [
    "#### Algorithm\n",
    "\n",
    "The quantum algorithm based on logarithmic encoding (QABLE) is a variational algorithm that uses an unitary $\\hat{U}(\\theta)$ characterized by the parameters $\\theta \\in \\mathbb{R}^{N}$ to prepare a quantum state $\\ket{\\psi_{\\bar{y}}}$ encoding a *particular solution* to the combinatorial optimization problem (COP), where $N$ is the number of variables. This state is prepared according to the equation below:\n",
    "\n",
    "\\begin{align}\n",
    "    \\ket{\\psi_{y}} &\\coloneqq \\frac{1}{\\sqrt{N}} \\sum_{k=0}^{N} y_k \\ket{k}_{\\log(\\ceil{N})} = \\frac{1}{\\sqrt{N}} \\sum_{k=0}^{N} e^{i\\pi x_k } \\ket{k}_{\\log(\\ceil{N})}\\\\\n",
    "    &= \\frac{1}{\\sqrt{N}} \\sum_{k=0}^{N} e^{i\\pi R_f(\\theta_k) } \\ket{k}_{\\log(\\ceil{N})} = \\hat{U}(\\theta) \\sum_{k=0}^{N} \\ket{k}_{\\log(\\ceil{N})} \\nonumber\\\\\n",
    "    &= \\hat{U}(\\theta) \\ket{+ \\dots +}_{\\log(\\ceil{N})} = \\hat{U}(\\theta) \\hat{\\mathcal{H}}^{\\otimes \\log(\\ceil{N})} \\ket{0}_{\\log(\\ceil{N})}\n",
    "\\end{align}\n",
    "\n",
    "where the $x_k = R_f(\\theta_k), \\theta_k \\in \\mathbb{R}$ can be interpreted as a projection from a (possibly unfeasible) solution to the set of feasible solutions ($x_k \\in \\{0,1\\}$). The function $R_f$ is designed to be a smooth version (differentiable) of the step function.\n",
    "\n",
    "The quantum algorithm based on logarithmic encoding (QABLE) is described by the following process:\n",
    "\t\n",
    "1. Initialize $\\theta$ to suitable real values.\n",
    "2. Calculate the coefficients $c'_k$ of the QUBO matrix $Q$ in the Pauli base.\n",
    "3. For each element $J_k$ of the real $\\log(\\ceil{N})$-Pauli base:\n",
    "    1. Compute the expectation $\\bra{\\psi\\left(\\theta\\right)} \\hat{H}_P \\ket{\\psi\\left(\\theta\\right)}$ via a sampling procedure.\n",
    "    2. Find a better set of parameters $\\theta$ using a classical optimization algorithm.\n",
    "    3. Set the current parameters $\\theta$ equal to the new parameters $\\theta_{new}$.\n",
    "\n",
    "*Important remarks*:\n",
    "- The operator $\\hat{H}_p$ does not act as a Hamiltonian in this approach because we are not really evolving a quantum state.\n",
    "- This approach only uses the quantum computer to calculate the expected value faster by the logarithmic encoding and the Pauli decomposition and grouping."
   ]
  },
  {
   "attachments": {},
   "cell_type": "markdown",
   "metadata": {},
   "source": []
  }
 ],
 "metadata": {
  "language_info": {
   "name": "python"
  },
  "orig_nbformat": 4
 },
 "nbformat": 4,
 "nbformat_minor": 2
}
